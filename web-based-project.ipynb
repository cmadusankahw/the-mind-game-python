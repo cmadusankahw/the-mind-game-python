{
 "cells": [
  {
   "cell_type": "code",
   "execution_count": 1,
   "metadata": {},
   "outputs": [],
   "source": [
    "import pandas as pd\n",
    "import streamlit as st\n",
    "from PIL import Image\n",
    "import random"
   ]
  },
  {
   "cell_type": "markdown",
   "metadata": {},
   "source": [
    "# Web app initializing"
   ]
  },
  {
   "cell_type": "code",
   "execution_count": 2,
   "metadata": {},
   "outputs": [],
   "source": [
    "if 'total' not in st.session_state:\n",
    "    st.session_state['total'] = 300\n",
    "\n",
    "if 'coin_attempt' not in st.session_state:\n",
    "    st.session_state['coin_attempt'] = 1\n",
    "    \n",
    "if 'dice_attempt' not in st.session_state:\n",
    "    st.session_state['dice_attempt'] = 1\n",
    "    \n",
    "if 'next_level' not in st.session_state:\n",
    "    st.session_state['next_level'] = False"
   ]
  },
  {
   "cell_type": "code",
   "execution_count": 3,
   "metadata": {},
   "outputs": [
    {
     "name": "stderr",
     "output_type": "stream",
     "text": [
      "2021-08-06 09:20:02.805 WARNING root: \n",
      "  \u001b[33m\u001b[1mWarning:\u001b[0m to view this Streamlit app on a browser, run it with the following\n",
      "  command:\n",
      "\n",
      "    streamlit run /home/chiran/anaconda3/lib/python3.8/site-packages/ipykernel_launcher.py [ARGUMENTS]\n"
     ]
    }
   ],
   "source": [
    "st.header(\"Mind Game\")\n",
    "st.write(\"Professional Practise Experiment- Group 3\")"
   ]
  },
  {
   "cell_type": "code",
   "execution_count": 4,
   "metadata": {},
   "outputs": [],
   "source": [
    "img=Image.open(\"main.png\")"
   ]
  },
  {
   "cell_type": "code",
   "execution_count": 5,
   "metadata": {},
   "outputs": [
    {
     "data": {
      "text/plain": [
       "DeltaGenerator(_root_container=0, _provided_cursor=None, _parent=None, _block_type=None, _form_data=None)"
      ]
     },
     "execution_count": 5,
     "metadata": {},
     "output_type": "execute_result"
    }
   ],
   "source": [
    "st.image(img,width=400)"
   ]
  },
  {
   "cell_type": "code",
   "execution_count": 7,
   "metadata": {},
   "outputs": [
    {
     "data": {
      "text/plain": [
       "DeltaGenerator(_root_container=0, _provided_cursor=None, _parent=None, _block_type=None, _form_data=None)"
      ]
     },
     "execution_count": 7,
     "metadata": {},
     "output_type": "execute_result"
    }
   ],
   "source": []
  },
  {
   "cell_type": "code",
   "execution_count": null,
   "metadata": {},
   "outputs": [],
   "source": [
    "st.sidebar.subheader(f\"Current Coin Balance Rs. {st.session_state.total}\")\n",
    "st.sidebar.subheader(\"Rules - Leve 01\")\n",
    "st.sidebar.markdown(\"- **Level 01** is necesaary to complete\")\n",
    "st.sidebar.markdown(\"- You will be given **Rs.300** worth cooins at the begining for level 01\")\n",
    "st.sidebar.markdown(\"- For any fail attempt in Level 01, you will loose **Rs.100** worth coins from given Rs. 300\")\n",
    "st.sidebar.subheader(\"Rules - Leve 01\")\n",
    "st.sidebar.markdown(\"- You can continue to **Level 02** If you like. Cion balance will be increased by **Rs.600** at the begining of Level 02\")\n",
    "st.sidebar.markdown(\"- For any fail attempt in Level 02, you will loose **Rs.200** worth coins from given Rs.600\")\n",
    "st.sidebar.markdown(\"- At a sucessfull completion. All remaining coins will be rewarded in cash!\")"
   ]
  },
  {
   "cell_type": "code",
   "execution_count": 11,
   "metadata": {},
   "outputs": [],
   "source": [
    "def coin_ui():\n",
    "    st.subheader(\"Level 01: Toss a coin\")\n",
    "    st.markdown(\"- You have 3 attemps to toss the coin.\")\n",
    "    st.markdown(\"- To win each attempt you need to get **HEAD**.\")\n",
    "    if st.session_state.coin_attempt < 4:\n",
    "        st.write(f\"Attempt: {st.session_state.coin_attempt}\")\n",
    "        if st.session_state.coin_attempt == 1:\n",
    "            attempt_button = st.button (\"Attempt Now\")\n",
    "        else:\n",
    "             attempt_button = st.button (\"Attempt Again\")\n",
    "        if attempt_button:\n",
    "            res = random.choice(['Head','Tail'])\n",
    "            st.markdown(f\"Tos Result: **{res}**\")\n",
    "            st.markdown(\"![coin toss](https://acegif.com/wp-content/gifs/coin-flip-41.gif)\")\n",
    "            st.session_state[f'coin_attempt_result_{st.session_state.coin_attempt}'] = res\n",
    "            st.session_state.coin_attempt = st.session_state.coin_attempt +1\n",
    "            if res == \"Tail\":\n",
    "                st.session_state.total = st.session_state.total - 100\n",
    "    else:\n",
    "        st.write(\"All Toss Coin attempts are used!\")\n",
    "        for at in range(1,st.session_state.coin_attempt):\n",
    "            if f'coin_attempt_result_{at}' in st.session_state:\n",
    "                st.write(f\"Attemt {at} : You're toss result:  {st.session_state[f'coin_attempt_result_{at}']}\")\n",
    "        st.session_state.coin_attempt = st.session_state.coin_attempt +1\n",
    "        st.write(\"Remeber your Choices to Submit the form!\")\n",
    "        st.markdown(\"- You have the freedom to provide any answer! Remeber: If an attempt is **Tail** you will loose **Rs. 100** from given coins\")"
   ]
  },
  {
   "cell_type": "code",
   "execution_count": null,
   "metadata": {},
   "outputs": [],
   "source": [
    "def dice_ui():\n",
    "    st.subheader(\"Level 02: Roll a dice\")\n",
    "    st.markdown(\"- You have 3 attemps to roll the dice.\")\n",
    "    st.markdown(\"- To win each attempt you need to get **a Value grater than 3**.\")\n",
    "    if st.session_state.dice_attempt < 4:\n",
    "        st.write(f\"Attempt: {st.session_state.dice_attempt}\")\n",
    "        if st.session_state.dice_attempt == 1:\n",
    "            attempt_button = st.button (\"Attempt Now\")\n",
    "        else:\n",
    "             attempt_button = st.button (\"Attempt Again\")\n",
    "        if attempt_button:\n",
    "            res = random.choice([1,2,3,4,5,6])\n",
    "            st.markdown(f\"Dice rolled Result: **{res}**\")\n",
    "            st.markdown(\"![dice roll](https://lh3.googleusercontent.com/proxy/-d87aGFDf6aSzTVF49SEv4tUU2bZElENwPTenESEyNV9GoPR6M0bYewA6_nAHD9vwT9wLBncQh0oYo8CceNC_AcXYIzYqo0)\")\n",
    "            st.session_state[f'dice_attempt_result_{st.session_state.dice_attempt}'] = res\n",
    "            st.session_state.dice_attempt = st.session_state.dice_attempt +1\n",
    "            if res < 3:\n",
    "                st.session_state.total = st.session_state.total - 100\n",
    "    else:\n",
    "        st.write(\"All Dice rolling attempts are used!\")\n",
    "        for at in range(1,st.session_state.dice_attempt):\n",
    "            if f'dice_attempt_result_{at}' in st.session_state:\n",
    "                st.write(f\"Attempt {at} : You'r dice result:  {st.session_state[f'dice_attempt_result_{at}']}\")\n",
    "        st.write(f\"Your Final Coin Balance: Rs. {st.session_state.total}\")\n",
    "        st.session_state.dice_attempt = st.session_state.dice_attempt +1\n",
    "        st.write(\"Remeber your Choices to Submit the form!\")\n",
    "        st.markdown(\"- You have the freedom to provide any answer! Remeber: If an attempt is **less than 3** you will loose **Rs. 200** from given coins\")"
   ]
  },
  {
   "cell_type": "code",
   "execution_count": null,
   "metadata": {},
   "outputs": [],
   "source": [
    "def submit_results():\n",
    "    st.subheader(f\"You Earned Coins worh of Rs. {st.session_state.total}\")\n",
    "    st.subheader(\"Submit Your Results\")\n",
    "    st.markdown(\"To proceed please enter below details. Your information are collected anonymously.\")\n",
    "    \n",
    "    gender_select = st.selectbox(\n",
    "    \"Your Gender?\",\n",
    "    (\"Male\", \"Female\")\n",
    "    )\n",
    "\n",
    "    age_select = st.selectbox(\n",
    "        \"Your Age?\",\n",
    "        (\"10-15\", \"16-20\",\"21-25\",\"26-30\",\"31-35\",\"36-40\")\n",
    "    )\n",
    "\n",
    "    state_select = st.selectbox(\n",
    "        \"Your Current occupation?\",\n",
    "        (\"Student\",\"School Leaver\",\"University Undergraduate\",\"Working\")\n",
    "    )\n",
    "    if st.button('Submit and Complete Game'):\n",
    "        st.write(\"Thank you for your participation!\")"
   ]
  },
  {
   "cell_type": "code",
   "execution_count": 18,
   "metadata": {},
   "outputs": [
    {
     "ename": "TypeError",
     "evalue": "choice() takes 2 positional arguments but 3 were given",
     "output_type": "error",
     "traceback": [
      "\u001b[0;31m---------------------------------------------------------------------------\u001b[0m",
      "\u001b[0;31mTypeError\u001b[0m                                 Traceback (most recent call last)",
      "\u001b[0;32m<ipython-input-18-5bedee9950a5>\u001b[0m in \u001b[0;36m<module>\u001b[0;34m\u001b[0m\n\u001b[0;32m----> 1\u001b[0;31m \u001b[0mcoin_ui\u001b[0m\u001b[0;34m(\u001b[0m\u001b[0;34m)\u001b[0m\u001b[0;34m\u001b[0m\u001b[0;34m\u001b[0m\u001b[0m\n\u001b[0m\u001b[1;32m      2\u001b[0m \u001b[0mdice_ui\u001b[0m\u001b[0;34m(\u001b[0m\u001b[0;34m)\u001b[0m\u001b[0;34m\u001b[0m\u001b[0;34m\u001b[0m\u001b[0m\n\u001b[1;32m      3\u001b[0m \u001b[0;31m# submit_results()\u001b[0m\u001b[0;34m\u001b[0m\u001b[0;34m\u001b[0m\u001b[0;34m\u001b[0m\u001b[0m\n\u001b[1;32m      4\u001b[0m \u001b[0;34m\u001b[0m\u001b[0m\n\u001b[1;32m      5\u001b[0m \u001b[0mst\u001b[0m\u001b[0;34m.\u001b[0m\u001b[0mcomponents\u001b[0m\u001b[0;34m.\u001b[0m\u001b[0mhtml\u001b[0m\u001b[0;34m(\u001b[0m\u001b[0;34m'<iframe id=\"typeform-full\" width=\"100%\" height=\"100%\" frameborder=\"0\" allow=\"camera; microphone; autoplay; encrypted-media;\" src=\"https://form.typeform.com/to/NrvgQZOM?typeform-medium=embed-snippet\"></iframe> <script type=\"text/javascript\" src=\"https://embed.typeform.com/embed.js\"></script>'\u001b[0m\u001b[0;34m)\u001b[0m\u001b[0;34m\u001b[0m\u001b[0;34m\u001b[0m\u001b[0m\n",
      "\u001b[0;32m<ipython-input-11-8983b1e23539>\u001b[0m in \u001b[0;36mcoin_ui\u001b[0;34m()\u001b[0m\n\u001b[1;32m      2\u001b[0m     \u001b[0mcoin_img\u001b[0m\u001b[0;34m=\u001b[0m\u001b[0mImage\u001b[0m\u001b[0;34m.\u001b[0m\u001b[0mopen\u001b[0m\u001b[0;34m(\u001b[0m\u001b[0;34m\"coin_img.gif\"\u001b[0m\u001b[0;34m)\u001b[0m\u001b[0;34m\u001b[0m\u001b[0;34m\u001b[0m\u001b[0m\n\u001b[1;32m      3\u001b[0m     \u001b[0mcoin_png\u001b[0m \u001b[0;34m=\u001b[0m \u001b[0mst\u001b[0m\u001b[0;34m.\u001b[0m\u001b[0mimage\u001b[0m\u001b[0;34m(\u001b[0m\u001b[0mcoin_img\u001b[0m\u001b[0;34m)\u001b[0m\u001b[0;34m\u001b[0m\u001b[0;34m\u001b[0m\u001b[0m\n\u001b[0;32m----> 4\u001b[0;31m     \u001b[0mst\u001b[0m\u001b[0;34m.\u001b[0m\u001b[0mmarkdown\u001b[0m\u001b[0;34m(\u001b[0m\u001b[0;34mf\"You Have Tossed: **{random.choice('Head','Tail')}**\"\u001b[0m\u001b[0;34m)\u001b[0m\u001b[0;34m\u001b[0m\u001b[0;34m\u001b[0m\u001b[0m\n\u001b[0m\u001b[1;32m      5\u001b[0m     \u001b[0mgenre\u001b[0m \u001b[0;34m=\u001b[0m \u001b[0mst\u001b[0m\u001b[0;34m.\u001b[0m\u001b[0mradio\u001b[0m\u001b[0;34m(\u001b[0m\u001b[0;34m\"Please tell us the result you got\"\u001b[0m\u001b[0;34m,\u001b[0m\u001b[0;34m(\u001b[0m\u001b[0;34m'I got Head'\u001b[0m\u001b[0;34m,\u001b[0m \u001b[0;34m'I got Tail'\u001b[0m\u001b[0;34m)\u001b[0m\u001b[0;34m)\u001b[0m\u001b[0;34m\u001b[0m\u001b[0;34m\u001b[0m\u001b[0m\n",
      "\u001b[0;31mTypeError\u001b[0m: choice() takes 2 positional arguments but 3 were given"
     ]
    }
   ],
   "source": [
    "\n",
    "coin_ui()\n",
    "if st.session_state.coin_attempt > 4:\n",
    "    if st.session_state.next_level == False:\n",
    "        st.subheader(\"Would you like to Play Next Level?\")\n",
    "        st.markdown(\"- Remeber: Playing Next level you can earn 600 more coins! for any fail attempt: You'll loose Rs. 200 coins!\")\n",
    "        if st.button(\"Play Next Level\"):\n",
    "            st.session_state.next_level = True\n",
    "            st.session_state.total = st.session_state.total + 300\n",
    "        if st.button(\"No I will stop here and keep coins\"):\n",
    "            st.write(f\"Your Final Coin Balance: Rs. {st.session_state.total}\")\n",
    "            st.markdown(\"\"\"\n",
    "            <iframe id=\"typeform-full\" width=\"100%\" height=\"600px\" frameborder=\"0\" allow=\"camera; microphone; autoplay; encrypted-media;\" src=\"https://form.typeform.com/to/NrvgQZOM?typeform-medium=embed-snippet\"></iframe> \n",
    "            <script type=\"text/javascript\" src=\"https://embed.typeform.com/embed.js\"></script>\n",
    "            \"\"\", unsafe_allow_html=True)\n",
    "    else:\n",
    "        dice_ui()\n",
    "            \n",
    "# submit_results()\n",
    "if st.session_state.coin_attempt > 4 and st.session_state.dice_attempt > 4:\n",
    "    st.subheader(\"Submit your Results\")\n",
    "    st.markdown(\"\"\"\n",
    "    <iframe id=\"typeform-full\" width=\"100%\" height=\"600px\" frameborder=\"0\" allow=\"camera; microphone; autoplay; encrypted-media;\" src=\"https://form.typeform.com/to/NrvgQZOM?typeform-medium=embed-snippet\"></iframe> \n",
    "    <script type=\"text/javascript\" src=\"https://embed.typeform.com/embed.js\"></script>\n",
    "    \"\"\", unsafe_allow_html=True)"
   ]
  },
  {
   "cell_type": "code",
   "execution_count": null,
   "metadata": {},
   "outputs": [],
   "source": []
  }
 ],
 "metadata": {
  "kernelspec": {
   "display_name": "Python 3",
   "language": "python",
   "name": "python3"
  },
  "language_info": {
   "codemirror_mode": {
    "name": "ipython",
    "version": 3
   },
   "file_extension": ".py",
   "mimetype": "text/x-python",
   "name": "python",
   "nbconvert_exporter": "python",
   "pygments_lexer": "ipython3",
   "version": "3.8.5"
  }
 },
 "nbformat": 4,
 "nbformat_minor": 4
}
